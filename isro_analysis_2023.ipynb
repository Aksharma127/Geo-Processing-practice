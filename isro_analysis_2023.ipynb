# ISRO Geospatial Data Analysis 2023 - Based on GitHub Repo CSV

# Step 1: Import Required Libraries
import pandas as pd
import geopandas as gpd
import matplotlib.pyplot as plt
import seaborn as sns

# Step 2: Load the CSV Data from GitHub repo
df = pd.read_csv('isro_data_2023.csv')

# Step 3: Quick Overview
print("📊 Dataset Dimensions:", df.shape)
print("🔍 Preview:\n", df.head())

# Step 4: Missing Values Check
print("\n🧼 Missing Data:\n", df.isnull().sum())

# Step 5: NDVI Distribution
plt.figure(figsize=(8, 4))
sns.histplot(df['ndvi'], bins=30, kde=True, color='green')
plt.title('NDVI Distribution (ISRO Dataset)')
plt.xlabel('NDVI')
plt.ylabel('Count')
plt.grid(True)
plt.show()

# Step 6: Convert to GeoDataFrame
if 'latitude' in df.columns and 'longitude' in df.columns:
    gdf = gpd.GeoDataFrame(
        df,
        geometry=gpd.points_from_xy(df.longitude, df.latitude),
        crs="EPSG:4326"
    )
    
    # Step 7: Geo Scatter Plot
    gdf.plot(figsize=(10, 6), color='purple', alpha=0.6)
    plt.title('Spatial Distribution of Points')
    plt.xlabel('Longitude')
    plt.ylabel('Latitude')
    plt.show()

# Step 8: NDVI by Land Cover (if available)
if 'land_cover' in df.columns:
    ndvi_land = df.groupby('land_cover')['ndvi'].mean().sort_values()
    ndvi_land.plot(kind='barh', color='darkgreen')
    plt.title('Average NDVI by Land Cover Type')
    plt.xlabel('NDVI')
    plt.grid(True)
    plt.show()

# Step 9: Save Cleaned Version
df.to_csv("cleaned_isro_data.csv", index=False)
print("✅ Cleaned file saved as 'cleaned_isro_data.csv'")
